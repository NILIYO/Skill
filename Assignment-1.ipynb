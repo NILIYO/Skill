{
 "cells": [
  {
   "cell_type": "code",
   "execution_count": 4,
   "id": "822d07dd-008b-4d3d-b2e2-5f1ed80efc52",
   "metadata": {},
   "outputs": [
    {
     "name": "stdout",
     "output_type": "stream",
     "text": [
      "<class 'str'>\n",
      "<class 'list'>\n",
      "<class 'float'>\n",
      "<class 'tuple'>\n"
     ]
    }
   ],
   "source": [
    "# Q1\n",
    "# ans(i)\n",
    "n= 'this is example of string data type'\n",
    "print(type(n)) \n",
    "# ans(ii)\n",
    "b=[1,2,3,'hello',654,1+3j,False ]\n",
    "print(type(b))\n",
    "# ans(iii)\n",
    "a=234.321\n",
    "print(type(a))\n",
    "# ans(iv)\n",
    "d=(213,432,'banana','road', 23+67j)\n",
    "print(type(d))"
   ]
  },
  {
   "cell_type": "code",
   "execution_count": 5,
   "id": "98463b0f-3959-4af9-bb8d-dfc16be1ca0f",
   "metadata": {},
   "outputs": [
    {
     "name": "stdout",
     "output_type": "stream",
     "text": [
      "<class 'str'>\n",
      "<class 'str'>\n",
      "<class 'list'>\n",
      "<class 'float'>\n"
     ]
    }
   ],
   "source": [
    "# Q2\n",
    "# ans(i) \n",
    "var1=''\n",
    "print(type (var1))\n",
    "# ans(ii)\n",
    "var2='[DS,ML,Python]'\n",
    "print(type(var2))\n",
    "# ans(iii)\n",
    "var3= ['DS','ML','Python']\n",
    "print(type(var3))\n",
    "#ans(iv)\n",
    "var4=1.\n",
    "print (type(var4))"
   ]
  },
  {
   "cell_type": "code",
   "execution_count": 8,
   "id": "63cf1212-690e-49c0-b894-f699ce1a49dc",
   "metadata": {},
   "outputs": [
    {
     "name": "stdout",
     "output_type": "stream",
     "text": [
      "5.0\n",
      "1\n",
      "625\n",
      "6\n"
     ]
    }
   ],
   "source": [
    "# Q3\n",
    "# given 4 operator are arithmetic operators\n",
    "# ans(1)  '/' is division operator\n",
    "q=25/5\n",
    "print(q)\n",
    "# ans(ii) '%' is modulus operator\n",
    "w=25%4\n",
    "print(w)\n",
    "# ans(iii) '**' is Exponentiation operator\n",
    "e= 25**2 # here the 25  is base and 2 is power \n",
    "print(e)\n",
    "# ans(iv) '//' is Floor division operator\n",
    "r = 25//4\n",
    "print(r)"
   ]
  },
  {
   "cell_type": "code",
   "execution_count": 9,
   "id": "955175b5-53e4-4081-9434-52265248f5b8",
   "metadata": {},
   "outputs": [
    {
     "name": "stdout",
     "output_type": "stream",
     "text": [
      "1\n",
      "<class 'int'>\n",
      "4\n",
      "<class 'int'>\n",
      "65\n",
      "<class 'int'>\n",
      "abc\n",
      "<class 'str'>\n",
      "(3+6j)\n",
      "<class 'complex'>\n",
      "may\n",
      "<class 'str'>\n",
      "(21, 32, 43)\n",
      "<class 'tuple'>\n",
      "[53, 'be', 'he']\n",
      "<class 'list'>\n",
      "2.324\n",
      "<class 'float'>\n",
      "543.9005\n",
      "<class 'float'>\n"
     ]
    }
   ],
   "source": [
    "#Q3\n",
    "j = [1,4,65,'abc', 3+6j, 'may', (21,32,43), [53,'be','he'], 2.324, 543.9005]\n",
    "for i in j:\n",
    "    print (i)\n",
    "    print (type(i))"
   ]
  },
  {
   "cell_type": "code",
   "execution_count": 2,
   "id": "d74bac1f-354f-4816-8316-e708727cbcea",
   "metadata": {},
   "outputs": [
    {
     "name": "stdout",
     "output_type": "stream",
     "text": [
      "Please enter the value of A.\n"
     ]
    },
    {
     "name": "stdin",
     "output_type": "stream",
     "text": [
      " 1\n"
     ]
    },
    {
     "name": "stdout",
     "output_type": "stream",
     "text": [
      "Please enter the value of B\n"
     ]
    },
    {
     "name": "stdin",
     "output_type": "stream",
     "text": [
      " 2\n"
     ]
    },
    {
     "name": "stdout",
     "output_type": "stream",
     "text": [
      "the value of A is 1\n",
      "the value of B is 2\n",
      "the A is not divisible by the B\n"
     ]
    }
   ],
   "source": [
    "#Q4\n",
    "print ('Please enter the value of A.')\n",
    "A = int(input())\n",
    "B = print ('Please enter the value of B')\n",
    "B = int(input())\n",
    "print ('the value of A is', A) \n",
    "print ('the value of B is', B)\n",
    "j=0\n",
    "if A%B ==0:\n",
    "    while A%B == 0:\n",
    "        j = j+1\n",
    "        A=A/B\n",
    "    print ('the A is purely divisible by the B and it can be divided',j,'times')\n",
    "else :\n",
    "    print ('the A is not divisible by the B')"
   ]
  },
  {
   "cell_type": "code",
   "execution_count": 3,
   "id": "65f05d80-2834-4c54-88e3-c8c7f4356478",
   "metadata": {},
   "outputs": [
    {
     "name": "stdout",
     "output_type": "stream",
     "text": [
      "1 is not divided by 3\n",
      "2 is not divided by 3\n",
      "3 is divided by 3\n",
      "4 is not divided by 3\n",
      "5 is not divided by 3\n",
      "6 is divided by 3\n",
      "7 is not divided by 3\n",
      "8 is not divided by 3\n",
      "9 is divided by 3\n",
      "10 is not divided by 3\n",
      "11 is not divided by 3\n",
      "12 is divided by 3\n",
      "14 is not divided by 3\n",
      "13 is not divided by 3\n",
      "15 is divided by 3\n",
      "16 is not divided by 3\n",
      "17 is not divided by 3\n",
      "18 is divided by 3\n",
      "19 is not divided by 3\n",
      "21 is divided by 3\n",
      "22 is not divided by 3\n",
      "23 is not divided by 3\n",
      "24 is divided by 3\n",
      "25 is not divided by 3\n",
      "32 is not divided by 3\n",
      "21 is divided by 3\n",
      "34 is not divided by 3\n",
      "54 is divided by 3\n"
     ]
    }
   ],
   "source": [
    "# Q5\n",
    "l=[1,2,3,4,5,6,7,8,9,10,11,12,14,13,15,16,17,18,19,21,22,23,24,25,32,21,34,54]\n",
    "for i in l:\n",
    "    if i%3 == 0:\n",
    "        print (i, 'is divided by 3')\n",
    "    else :\n",
    "        print (i, 'is not divided by 3')"
   ]
  },
  {
   "cell_type": "code",
   "execution_count": 13,
   "id": "f20b3b90-fc8b-4083-89c6-7aed1bee7950",
   "metadata": {},
   "outputs": [
    {
     "name": "stdout",
     "output_type": "stream",
     "text": [
      "[1, 2, 'abc', 4, 5, 6, 7, 8, 9]\n"
     ]
    },
    {
     "ename": "TypeError",
     "evalue": "'tuple' object does not support item assignment",
     "output_type": "error",
     "traceback": [
      "\u001b[0;31m---------------------------------------------------------------------------\u001b[0m",
      "\u001b[0;31mTypeError\u001b[0m                                 Traceback (most recent call last)",
      "Cell \u001b[0;32mIn[13], line 8\u001b[0m\n\u001b[1;32m      6\u001b[0m \u001b[38;5;66;03m# immutable data type can't be change after creating. ie string, tuple.  \u001b[39;00m\n\u001b[1;32m      7\u001b[0m v\u001b[38;5;241m=\u001b[39m(\u001b[38;5;241m1\u001b[39m,\u001b[38;5;241m2\u001b[39m,\u001b[38;5;241m3\u001b[39m,\u001b[38;5;241m5\u001b[39m,\u001b[38;5;124m'\u001b[39m\u001b[38;5;124mabc\u001b[39m\u001b[38;5;124m'\u001b[39m)\n\u001b[0;32m----> 8\u001b[0m \u001b[43mv\u001b[49m\u001b[43m[\u001b[49m\u001b[38;5;241;43m3\u001b[39;49m\u001b[43m]\u001b[49m\u001b[38;5;241m=\u001b[39m\u001b[38;5;124m'\u001b[39m\u001b[38;5;124mzyx\u001b[39m\u001b[38;5;124m'\u001b[39m\n",
      "\u001b[0;31mTypeError\u001b[0m: 'tuple' object does not support item assignment"
     ]
    }
   ],
   "source": [
    "#Q6\n",
    "# Mutable data type can be change after creating. ie list\n",
    "l=[1,2,3,4,5,6,7,8,9]\n",
    "l[2]='abc'\n",
    "print(l)\n",
    "# immutable data type can't be change after creating. ie string, tuple.  \n",
    "v=(1,2,3,5,'abc')\n",
    "v[3]='zyx'"
   ]
  },
  {
   "cell_type": "code",
   "execution_count": null,
   "id": "f7b614ef-81ea-4335-82fe-ca0a7c0bf96c",
   "metadata": {},
   "outputs": [],
   "source": []
  }
 ],
 "metadata": {
  "kernelspec": {
   "display_name": "Python 3 (ipykernel)",
   "language": "python",
   "name": "python3"
  },
  "language_info": {
   "codemirror_mode": {
    "name": "ipython",
    "version": 3
   },
   "file_extension": ".py",
   "mimetype": "text/x-python",
   "name": "python",
   "nbconvert_exporter": "python",
   "pygments_lexer": "ipython3",
   "version": "3.10.8"
  }
 },
 "nbformat": 4,
 "nbformat_minor": 5
}
